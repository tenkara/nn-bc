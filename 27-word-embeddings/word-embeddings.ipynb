{
 "cells": [
  {
   "cell_type": "code",
   "execution_count": 1,
   "metadata": {},
   "outputs": [],
   "source": [
    "import torch\n",
    "import torch.nn as nn\n",
    "import torch.nn.functional as F\n",
    "import torch.optim as optim"
   ]
  },
  {
   "cell_type": "code",
   "execution_count": 2,
   "metadata": {},
   "outputs": [
    {
     "name": "stdout",
     "output_type": "stream",
     "text": [
      "tensor([2])\n",
      "tensor([[-0.0665, -1.6362, -0.5086, -0.2291, -0.1309,  0.7459,  0.3214]],\n",
      "       grad_fn=<EmbeddingBackward0>)\n"
     ]
    }
   ],
   "source": [
    "# The indices of the words represent the values in the lookup table\n",
    "word_to_idx = {\"I\": 0, \"love\": 1, \"PyTorch\": 2, \"and\": 3, \"TensorFlow\": 4}\n",
    "embeddings = nn.Embedding(5, 7) # 5 words in vocab, 7 dimensional embeddings\n",
    "word_index = torch.tensor([word_to_idx[\"PyTorch\"]], dtype=torch.long)\n",
    "print(word_index)\n",
    "print(embeddings(word_index))\n"
   ]
  },
  {
   "cell_type": "code",
   "execution_count": 3,
   "metadata": {},
   "outputs": [
    {
     "name": "stdout",
     "output_type": "stream",
     "text": [
      "tensor([[-0.0665, -1.6362, -0.5086, -0.2291, -0.1309,  0.7459,  0.3214]],\n",
      "       grad_fn=<EmbeddingBackward0>)\n",
      "torch.Size([1, 7])\n"
     ]
    }
   ],
   "source": [
    "pytorch = embeddings(word_index)\n",
    "print(pytorch)\n",
    "print(pytorch.shape)"
   ]
  },
  {
   "cell_type": "code",
   "execution_count": 6,
   "metadata": {},
   "outputs": [
    {
     "name": "stdout",
     "output_type": "stream",
     "text": [
      "tensor([0, 1, 2, 3, 4])\n",
      "tensor([[ 0.0721, -0.8922, -0.7451, -0.8127,  1.0311, -0.6423,  0.4994],\n",
      "        [-0.0248, -0.6552,  1.3898,  0.5324,  0.0957, -1.5585,  0.2627],\n",
      "        [-0.0665, -1.6362, -0.5086, -0.2291, -0.1309,  0.7459,  0.3214],\n",
      "        [-0.1447, -0.7004, -0.0840,  1.0636, -0.0717, -0.7949,  0.4287],\n",
      "        [ 1.0382,  2.5951,  0.2455, -1.1577,  0.0424, -0.9611, -0.2042]],\n",
      "       grad_fn=<EmbeddingBackward0>)\n",
      "torch.Size([5, 7])\n"
     ]
    }
   ],
   "source": [
    "all_indices = torch.tensor([w for w in range(5)], dtype=torch.long)\n",
    "all_words = embeddings(all_indices)\n",
    "print(all_indices)\n",
    "print(all_words)\n",
    "print(all_words.shape)"
   ]
  }
 ],
 "metadata": {
  "kernelspec": {
   "display_name": "venv",
   "language": "python",
   "name": "python3"
  },
  "language_info": {
   "codemirror_mode": {
    "name": "ipython",
    "version": 3
   },
   "file_extension": ".py",
   "mimetype": "text/x-python",
   "name": "python",
   "nbconvert_exporter": "python",
   "pygments_lexer": "ipython3",
   "version": "3.11.2"
  },
  "orig_nbformat": 4
 },
 "nbformat": 4,
 "nbformat_minor": 2
}
