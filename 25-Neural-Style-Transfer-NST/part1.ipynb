{
 "cells": [
  {
   "cell_type": "code",
   "execution_count": 1,
   "metadata": {},
   "outputs": [],
   "source": [
    "import torch\n",
    "import torch.nn as nn\n",
    "import torchvision # for pretrained models\n",
    "from torchvision import transforms, models # for pretrained models\n",
    "from PIL import Image # Python Image Library for image processing\n",
    "import matplotlib.pyplot as plt # for plotting\n",
    "import numpy as np # for numerical calculations"
   ]
  },
  {
   "cell_type": "code",
   "execution_count": 2,
   "metadata": {},
   "outputs": [],
   "source": [
    "device = torch.device(\"cuda\" if torch.cuda.is_available() else \"cpu\")"
   ]
  },
  {
   "cell_type": "code",
   "execution_count": null,
   "metadata": {},
   "outputs": [],
   "source": [
    "def get_image(path, img_transform, size = (300, 300)):\n",
    "    img = Image.open(path)\n",
    "    img = img.resize(size, Image.LANCZOS)\n",
    "    img = img_transform(img).unsqueeze(0) # add batch dimension\n",
    "    return img.to(device)"
   ]
  },
  {
   "cell_type": "code",
   "execution_count": null,
   "metadata": {},
   "outputs": [],
   "source": [
    "def get_gram(m):\n",
    "    \"\"\" m is of shape (batch_size, channels, height, width) \"\"\"\n",
    "    batch_size, channels, height, width = m.size()\n",
    "    m = m.view(batch_size * channels, height * width)\n",
    "    gram = torch.mm(m, m.t())\n",
    "    return gram.div(batch_size * channels * height * width)"
   ]
  },
  {
   "cell_type": "code",
   "execution_count": null,
   "metadata": {},
   "outputs": [],
   "source": [
    "# Denormalize the image\n",
    "def denormalize_img(img):\n",
    "    img = img.numpy().transpose(1, 2, 0) # (channels, height, width) -> (height, width, channels)\n",
    "    mean = np.array([0.485, 0.456, 0.406]) # mean of the ImageNet dataset\n",
    "    std = np.array([0.229, 0.224, 0.225]) # standard deviation of the ImageNet dataset\n",
    "    img = std * img + mean # denormalize\n",
    "    img = np.clip(img, 0, 1) # clip the values to [0, 1]\n",
    "    return img * 0.5 + 0.5"
   ]
  }
 ],
 "metadata": {
  "kernelspec": {
   "display_name": "venv",
   "language": "python",
   "name": "python3"
  },
  "language_info": {
   "codemirror_mode": {
    "name": "ipython",
    "version": 3
   },
   "file_extension": ".py",
   "mimetype": "text/x-python",
   "name": "python",
   "nbconvert_exporter": "python",
   "pygments_lexer": "ipython3",
   "version": "3.11.2"
  },
  "orig_nbformat": 4
 },
 "nbformat": 4,
 "nbformat_minor": 2
}
