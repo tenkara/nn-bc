{
 "cells": [
  {
   "cell_type": "code",
   "execution_count": 1,
   "metadata": {},
   "outputs": [],
   "source": [
    "import torch\n",
    "import torch.nn as nn\n",
    "import torchvision # for pretrained models\n",
    "from torchvision import transforms, models # for pretrained models\n",
    "from PIL import Image # Python Image Library for image processing\n",
    "import matplotlib.pyplot as plt # for plotting\n",
    "import numpy as np # for numerical calculations"
   ]
  },
  {
   "cell_type": "code",
   "execution_count": 2,
   "metadata": {},
   "outputs": [],
   "source": [
    "device = torch.device(\"cuda\" if torch.cuda.is_available() else \"cpu\")"
   ]
  },
  {
   "cell_type": "code",
   "execution_count": 3,
   "metadata": {},
   "outputs": [],
   "source": [
    "def get_image(path, img_transform, size = (300, 300)):\n",
    "    img = Image.open(path)\n",
    "    img = img.resize(size, Image.LANCZOS)\n",
    "    img = img_transform(img).unsqueeze(0) # add batch dimension\n",
    "    return img.to(device)"
   ]
  },
  {
   "cell_type": "code",
   "execution_count": 4,
   "metadata": {},
   "outputs": [],
   "source": [
    "def get_gram(m):\n",
    "    \"\"\" m is of shape (batch_size, channels, height, width) \"\"\"\n",
    "    batch_size, channels, height, width = m.size()\n",
    "    m = m.view(batch_size * channels, height * width)\n",
    "    gram = torch.mm(m, m.t())\n",
    "    return gram.div(batch_size * channels * height * width)"
   ]
  },
  {
   "cell_type": "code",
   "execution_count": 5,
   "metadata": {},
   "outputs": [],
   "source": [
    "# Denormalize the image\n",
    "def denormalize_img(img):\n",
    "    img = img.numpy().transpose(1, 2, 0) # (channels, height, width) -> (height, width, channels)\n",
    "    mean = np.array([0.485, 0.456, 0.406]) # mean of the ImageNet dataset\n",
    "    std = np.array([0.229, 0.224, 0.225]) # standard deviation of the ImageNet dataset\n",
    "    img = std * img + mean # denormalize\n",
    "    img = np.clip(img, 0, 1) # clip the values to [0, 1]\n",
    "    return img * 0.5 + 0.5"
   ]
  },
  {
   "attachments": {},
   "cell_type": "markdown",
   "metadata": {},
   "source": [
    "![figure](https://user-images.githubusercontent.com/30661597/107026142-96fa0100-67aa-11eb-9f71-4adce01dd362.png)"
   ]
  },
  {
   "cell_type": "code",
   "execution_count": 6,
   "metadata": {},
   "outputs": [],
   "source": [
    "class FeatureExtractor(nn.Module):\n",
    "    def __init__(self):\n",
    "        super(FeatureExtractor, self).__init__()\n",
    "        self.selected_layers = [3, 8, 15, 22 ] # layers to extract features from\n",
    "        self.vgg = models.vgg16(pretrained = True).features # pretrained VGG16 model\n",
    "\n",
    "    def forward(self, x):\n",
    "        features = []\n",
    "        for layer_num, layer in self.vgg._modules.items():\n",
    "            x = layer(x)\n",
    "            if int(layer_num) in self.selected_layers:\n",
    "                features.append(x)\n",
    "        return features"
   ]
  },
  {
   "cell_type": "code",
   "execution_count": 8,
   "metadata": {},
   "outputs": [
    {
     "name": "stderr",
     "output_type": "stream",
     "text": [
      "C:\\Users\\Raj\\AppData\\Local\\Temp\\ipykernel_31200\\3191948669.py:3: DeprecationWarning: LANCZOS is deprecated and will be removed in Pillow 10 (2023-07-01). Use Resampling.LANCZOS instead.\n",
      "  img = img.resize(size, Image.LANCZOS)\n",
      "c:\\Users\\Raj\\repos\\nn-bc\\venv\\Lib\\site-packages\\torchvision\\models\\_utils.py:208: UserWarning: The parameter 'pretrained' is deprecated since 0.13 and may be removed in the future, please use 'weights' instead.\n",
      "  warnings.warn(\n",
      "c:\\Users\\Raj\\repos\\nn-bc\\venv\\Lib\\site-packages\\torchvision\\models\\_utils.py:223: UserWarning: Arguments other than a weight enum or `None` for 'weights' are deprecated since 0.13 and may be removed in the future. The current behavior is equivalent to passing `weights=VGG16_Weights.IMAGENET1K_V1`. You can also use `weights=VGG16_Weights.DEFAULT` to get the most up-to-date weights.\n",
      "  warnings.warn(msg)\n"
     ]
    }
   ],
   "source": [
    "# Image transformation\n",
    "img_transform = transforms.Compose([\n",
    "    transforms.ToTensor(), # convert to tensor\n",
    "    transforms.Normalize(mean = [0.485, 0.456, 0.406], # normalize using the mean\n",
    "                            std = [0.229, 0.224, 0.225]) # normalize using the standard deviation\n",
    "])\n",
    "content_img = get_image(\"images/content.jpg\", img_transform)\n",
    "style_img = get_image(\"images/style.jpg\", img_transform)\n",
    "generated_img = content_img.clone().requires_grad_(True) # clone the content image and set requires_grad to True\n",
    "\n",
    "# Optimizer\n",
    "optimizer = torch.optim.Adam([generated_img], lr = 0.003, betas = (0.5, 0.999))\n",
    "\n",
    "# Encoder\n",
    "encoder = FeatureExtractor().to(device) # put the encoder in the device\n",
    "\n",
    "for p in encoder.parameters():\n",
    "    p.requires_grad = False # we don't need to train the encoder"
   ]
  },
  {
   "cell_type": "code",
   "execution_count": null,
   "metadata": {},
   "outputs": [],
   "source": []
  }
 ],
 "metadata": {
  "kernelspec": {
   "display_name": "venv",
   "language": "python",
   "name": "python3"
  },
  "language_info": {
   "codemirror_mode": {
    "name": "ipython",
    "version": 3
   },
   "file_extension": ".py",
   "mimetype": "text/x-python",
   "name": "python",
   "nbconvert_exporter": "python",
   "pygments_lexer": "ipython3",
   "version": "3.11.2"
  },
  "orig_nbformat": 4
 },
 "nbformat": 4,
 "nbformat_minor": 2
}
