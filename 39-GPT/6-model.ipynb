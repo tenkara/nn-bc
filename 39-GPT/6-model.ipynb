{
 "cells": [
  {
   "cell_type": "code",
   "execution_count": 1,
   "metadata": {},
   "outputs": [],
   "source": [
    "import torch\n",
    "import torch.nn as nn\n",
    "import torch.nn.functional as F\n",
    "from transformers import GPT2Tokenizer, GPT2Config"
   ]
  },
  {
   "cell_type": "code",
   "execution_count": 2,
   "metadata": {},
   "outputs": [
    {
     "data": {
      "text/plain": [
       "GPT2Config {\n",
       "  \"activation_function\": \"gelu_new\",\n",
       "  \"attn_pdrop\": 0.1,\n",
       "  \"bos_token_id\": 50256,\n",
       "  \"embd_pdrop\": 0.1,\n",
       "  \"eos_token_id\": 50256,\n",
       "  \"initializer_range\": 0.02,\n",
       "  \"layer_norm_epsilon\": 1e-05,\n",
       "  \"model_type\": \"gpt2\",\n",
       "  \"n_embd\": 768,\n",
       "  \"n_head\": 12,\n",
       "  \"n_inner\": null,\n",
       "  \"n_layer\": 12,\n",
       "  \"n_positions\": 1024,\n",
       "  \"reorder_and_upcast_attn\": false,\n",
       "  \"resid_pdrop\": 0.1,\n",
       "  \"scale_attn_by_inverse_layer_idx\": false,\n",
       "  \"scale_attn_weights\": true,\n",
       "  \"summary_activation\": null,\n",
       "  \"summary_first_dropout\": 0.1,\n",
       "  \"summary_proj_to_labels\": true,\n",
       "  \"summary_type\": \"cls_index\",\n",
       "  \"summary_use_proj\": true,\n",
       "  \"transformers_version\": \"4.28.1\",\n",
       "  \"use_cache\": true,\n",
       "  \"vocab_size\": 50257\n",
       "}"
      ]
     },
     "execution_count": 2,
     "metadata": {},
     "output_type": "execute_result"
    }
   ],
   "source": [
    "config = GPT2Config()\n",
    "config"
   ]
  },
  {
   "cell_type": "code",
   "execution_count": 3,
   "metadata": {},
   "outputs": [],
   "source": [
    "class GPT2Attention(nn.Module):\n",
    "    def __init__(self, config):\n",
    "        super().__init__()\n",
    "\n",
    "        max_positions = config.n_positions\n",
    "        self.mask = torch.tril(torch.ones(max_positions, max_positions), dtype = torch.bool).view(1, 1, max_positions, max_positions)\n",
    "        self.embed_dim = config.n_embd\n",
    "        self.num_heads = config.n_head\n",
    "        self.head_dim = self.embed_dim // self.num_heads\n",
    "        self.split_size = self.embed_dim\n",
    "        self.c_attn = nn.Linear(self.embed_dim, 3 * self.embed_dim)\n",
    "        self.c_proj = nn.Linear(self.embed_dim, self.embed_dim)\n",
    "        self.dropout = nn.Dropout(0.1)\n",
    "\n",
    "    def _attn(self, query, key, value):\n",
    "        # query, key, value: [batch_size, num_heads, seq_len, head_dim]\n",
    "        attn_weights = torch.matmul(query, key.transpose(-1, -2))\n",
    "        attn_weights = attn_weights / (float(self.head_dim) ** 0.5)\n",
    "\n",
    "        # sequence length\n",
    "        T = query.size(-2) # dimensionality before the last one\n",
    "        casual_mask = self.mask[:, :, :T, :T].bool()\n",
    "        attn_weights = torch.where(casual_mask, attn_weights, torch.tensor(-1e4))\n",
    "\n",
    "        attn_weights = nn.Softmax(dim = -1)(attn_weights)\n",
    "        attn_weights = self.dropout(attn_weights)\n",
    "        # attn_weights: [batch_size, num_heads, seq_len, seq_len] matmul [batch_size, num_heads, seq_len, head_dim]\n",
    "        attn_output = torch.matmul(attn_weights, value)\n",
    "        return attn_output\n",
    "        \n",
    "    def forward(self, x):\n",
    "        # x of shape [batch_size (B), seq_len (T), embed_dim (C)]\n",
    "        B, T, C = x.size()\n",
    "        query, key, value = self.c_attn(x).split(self.split_size, dim = -1) # (B,T,C) -> (B,T,3*C)\n",
    "        query = query.view(B, T, self.num_heads, self.head_dim).transpose(1, 2) # (B,T,3*C) -> (B,T,num_heads,head_dim) -> (B,num_heads,T,head_dim)\n",
    "        key = key.view(B, T, self.num_heads, self.head_dim).transpose(1, 2)\n",
    "        value = value.view(B, T, self.num_heads, self.head_dim).transpose(1, 2)\n",
    "\n",
    "        # query, key, value: [batch_size, num_heads, seq_len, head_dim]\n",
    "        attn_output = self._attn(query, key, value) # [batch_size, num_heads, seq_len, head_dim]\n",
    "        attn_output = attn_output.transpose(1, 2).view(B, T, C) # [batch_size, seq_len, embed_dim]\n",
    "        attn_output = self.c_proj(attn_output) # [batch_size, seq_len, embed_dim]\n",
    "        attn_output = self.dropout(attn_output)\n",
    "        return attn_output"
   ]
  },
  {
   "cell_type": "code",
   "execution_count": 4,
   "metadata": {},
   "outputs": [],
   "source": [
    "class GPT2MLP(nn.Module):\n",
    "    def __init__(self, config):\n",
    "        super().__init__()\n",
    "        embed_dim = config.n_embd\n",
    "        self.mlp = nn.Sequential(nn.Linear(embed_dim, 4 * embed_dim), nn.GELU(), nn.Linear(4 * embed_dim, embed_dim), nn.Dropout(0.1))\n",
    "\n",
    "    def forward(self, x):\n",
    "        return self.mlp(x)"
   ]
  },
  {
   "cell_type": "code",
   "execution_count": 5,
   "metadata": {},
   "outputs": [],
   "source": [
    "class GPT2Block(nn.Module):\n",
    "    def __init__(self, config):\n",
    "        super().__init__()\n",
    "        embed_dim = config.n_embd\n",
    "        self.ln1 = nn.LayerNorm(embed_dim)\n",
    "        self.ln2 = nn.LayerNorm(embed_dim)\n",
    "        self.attn = GPT2Attention(config)\n",
    "        self.mlp = GPT2MLP(config)\n",
    "\n",
    "    def forward(self, hidden_states):\n",
    "        residual = hidden_states\n",
    "        hidden_states = self.ln1(hidden_states)\n",
    "        attn_outputs = self.attn(hidden_states)\n",
    "        hidden_states = residual + attn_outputs\n",
    "        residual = hidden_states\n",
    "        feed_forward_hidden_states = self.mlp(hidden_states)\n",
    "        hidden_states = residual + feed_forward_hidden_states\n",
    "        return hidden_states\n"
   ]
  },
  {
   "cell_type": "code",
   "execution_count": null,
   "metadata": {},
   "outputs": [],
   "source": [
    "class GPT2Model(nn.Module):\n",
    "    def __init__(self, config):\n",
    "        super().__init__()\n",
    "        self.embed_dim = config.n_embd\n",
    "        self.vocab_size = config.vocab_size\n",
    "\n",
    "        self.wte = nn.Embedding(self.vocab_size, self.embed_dim)\n",
    "        self.wpe = nn.Embedding(config.n_positions, self.embed_dim)\n",
    "\n",
    "        self.drop = nn.Dropout(0.1)\n",
    "        self.blocks = nn.ModuleList([GPT2Block(config) for _ in range(config.n_layer)])\n",
    "\n",
    "        self.ln_f = nn.LayerNorm(self.embed_dim)\n",
    "\n",
    "    def forward(self, input_ids = None, position_ids = None):\n",
    "        # input_ids: [batch_size, seq_len]\n",
    "        input_shape = input_ids.size()\n",
    "        batch_size = input_ids.size()\n",
    "        device = input_ids.device\n",
    "\n",
    "        position_ids = torch.arange(input_shape[-1], dtype = torch.long, device = device)\n",
    "        position_ids = position_ids.unsqueeze(0).expand_as(input_ids)\n",
    "        inputs_embeds = self.wte(input_ids)\n",
    "        position_embeds = self.wpe(position_ids)\n",
    "\n",
    "        hidden_states = inputs_embeds + position_embeds\n",
    "        hidden_states = self.drop(hidden_states)\n",
    "\n",
    "        for block in self.blocks:\n",
    "            hidden_states = block(hidden_states)\n",
    "\n",
    "        hidden_states = self.ln_f(hidden_states)\n",
    "        hidden_states = hidden_states.view(*input_shape, -1)\n",
    "        return hidden_states"
   ]
  }
 ],
 "metadata": {
  "kernelspec": {
   "display_name": "venv",
   "language": "python",
   "name": "python3"
  },
  "language_info": {
   "codemirror_mode": {
    "name": "ipython",
    "version": 3
   },
   "file_extension": ".py",
   "mimetype": "text/x-python",
   "name": "python",
   "nbconvert_exporter": "python",
   "pygments_lexer": "ipython3",
   "version": "3.11.2"
  },
  "orig_nbformat": 4
 },
 "nbformat": 4,
 "nbformat_minor": 2
}
