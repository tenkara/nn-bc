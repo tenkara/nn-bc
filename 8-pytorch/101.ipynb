{
 "cells": [
  {
   "cell_type": "code",
   "execution_count": 1,
   "metadata": {},
   "outputs": [],
   "source": [
    "import torch"
   ]
  },
  {
   "cell_type": "code",
   "execution_count": 2,
   "metadata": {},
   "outputs": [],
   "source": [
    "import torchvision"
   ]
  },
  {
   "cell_type": "code",
   "execution_count": 3,
   "metadata": {},
   "outputs": [
    {
     "data": {
      "text/plain": [
       "True"
      ]
     },
     "execution_count": 3,
     "metadata": {},
     "output_type": "execute_result"
    }
   ],
   "source": [
    "torch.cuda.is_available()"
   ]
  },
  {
   "attachments": {},
   "cell_type": "markdown",
   "metadata": {},
   "source": [
    "### Torch Tensors"
   ]
  },
  {
   "cell_type": "code",
   "execution_count": 21,
   "metadata": {},
   "outputs": [
    {
     "name": "stdout",
     "output_type": "stream",
     "text": [
      "tensor([1, 2, 3, 4, 5])\n",
      "torch.Size([5])\n",
      "torch.Size([5])\n"
     ]
    }
   ],
   "source": [
    "#1-D tensor\n",
    "a = torch.tensor([1,2,3,4,5])\n",
    "print(a)\n",
    "print(a.shape)\n",
    "print(a.size())"
   ]
  },
  {
   "cell_type": "code",
   "execution_count": 28,
   "metadata": {},
   "outputs": [
    {
     "name": "stdout",
     "output_type": "stream",
     "text": [
      "tensor([[1],\n",
      "        [2],\n",
      "        [3],\n",
      "        [4],\n",
      "        [5]])\n"
     ]
    }
   ],
   "source": [
    "print(a.view(-1,1))"
   ]
  },
  {
   "cell_type": "code",
   "execution_count": 22,
   "metadata": {},
   "outputs": [
    {
     "name": "stdout",
     "output_type": "stream",
     "text": [
      "tensor([[1, 2, 3],\n",
      "        [4, 5, 6]])\n",
      "torch.Size([2, 3])\n",
      "torch.Size([2, 3])\n"
     ]
    }
   ],
   "source": [
    "#2-D tensor\n",
    "b = torch.tensor([[1,2,3],[4,5,6]])\n",
    "print(b)\n",
    "print(b.shape)\n",
    "print(b.size())"
   ]
  },
  {
   "cell_type": "code",
   "execution_count": 33,
   "metadata": {},
   "outputs": [
    {
     "name": "stdout",
     "output_type": "stream",
     "text": [
      "tensor([[1],\n",
      "        [2],\n",
      "        [3],\n",
      "        [4],\n",
      "        [5],\n",
      "        [6]])\n",
      "tensor([[1, 2],\n",
      "        [3, 4],\n",
      "        [5, 6]])\n"
     ]
    }
   ],
   "source": [
    "print(b.view(-1,1))\n",
    "print(b.view(3,2))"
   ]
  },
  {
   "cell_type": "code",
   "execution_count": 43,
   "metadata": {},
   "outputs": [
    {
     "name": "stdout",
     "output_type": "stream",
     "text": [
      "tensor([[[ 1,  2,  3],\n",
      "         [ 4,  5,  6]],\n",
      "\n",
      "        [[ 7,  8,  9],\n",
      "         [10, 11, 12]]])\n",
      "torch.Size([2, 2, 3])\n",
      "torch.Size([2, 2, 3])\n",
      "tensor([[ 1],\n",
      "        [ 2],\n",
      "        [ 3],\n",
      "        [ 4],\n",
      "        [ 5],\n",
      "        [ 6],\n",
      "        [ 7],\n",
      "        [ 8],\n",
      "        [ 9],\n",
      "        [10],\n",
      "        [11],\n",
      "        [12]])\n",
      "tensor([[ 1,  2,  3,  4,  5,  6],\n",
      "        [ 7,  8,  9, 10, 11, 12]])\n"
     ]
    }
   ],
   "source": [
    "#3-D tensor with 2 channels, 2 rows, 3 columns\n",
    "c = torch.tensor([[[1,2,3],[4,5,6]],[[7,8,9],[10,11,12]]])\n",
    "print(c)\n",
    "print(c.shape)\n",
    "print(c.size())\n",
    "print(c.view(-1,1))\n",
    "print(c.view(2, -1))"
   ]
  },
  {
   "cell_type": "code",
   "execution_count": 41,
   "metadata": {},
   "outputs": [
    {
     "name": "stdout",
     "output_type": "stream",
     "text": [
      "tensor([[0.1304, 0.9367, 0.2787, 0.3087],\n",
      "        [0.6205, 0.2898, 0.6436, 0.3211],\n",
      "        [0.3861, 0.4135, 0.9724, 0.9078],\n",
      "        [0.5933, 0.1518, 0.5974, 0.7014]])\n",
      "torch.Size([4, 4])\n",
      "torch.Size([4, 4])\n"
     ]
    }
   ],
   "source": [
    "#4-D tensor\n",
    "d = torch.rand(4,4)\n",
    "print(d)\n",
    "print(d.shape)\n",
    "print(d.size())"
   ]
  },
  {
   "cell_type": "code",
   "execution_count": 20,
   "metadata": {},
   "outputs": [
    {
     "name": "stdout",
     "output_type": "stream",
     "text": [
      "torch.Size([5])\n",
      "torch.Size([5])\n"
     ]
    }
   ],
   "source": [
    "#size of tensors\n",
    "print(a.size()) \n",
    "print(a.shape)"
   ]
  },
  {
   "cell_type": "code",
   "execution_count": 27,
   "metadata": {},
   "outputs": [
    {
     "name": "stdout",
     "output_type": "stream",
     "text": [
      "tensor([[1., 2., 3.],\n",
      "        [4., 5., 6.]])\n",
      "tensor(3.5000)\n",
      "tensor(1.8708)\n",
      "tensor(3.)\n"
     ]
    }
   ],
   "source": [
    "#float tensor\n",
    "e = torch.FloatTensor([[1,2,3],[4,5,6]])\n",
    "print(e)\n",
    "print(e.mean())\n",
    "print(e.std())\n",
    "print(e.median())"
   ]
  },
  {
   "cell_type": "code",
   "execution_count": 26,
   "metadata": {},
   "outputs": [
    {
     "name": "stdout",
     "output_type": "stream",
     "text": [
      "tensor([[1., 2., 3.],\n",
      "        [4., 5., 6.]], dtype=torch.float64)\n"
     ]
    }
   ],
   "source": [
    "#double tensor\n",
    "f = torch.DoubleTensor([[1,2,3],[4,5,6]])\n",
    "print(f)"
   ]
  },
  {
   "cell_type": "code",
   "execution_count": 45,
   "metadata": {},
   "outputs": [
    {
     "name": "stdout",
     "output_type": "stream",
     "text": [
      "tensor([[3, 9, 4],\n",
      "        [2, 8, 9],\n",
      "        [3, 6, 2]])\n",
      "torch.LongTensor\n"
     ]
    }
   ],
   "source": [
    "f = torch.randint(0,10,(3,3))\n",
    "print(f)\n",
    "print(f.type())"
   ]
  },
  {
   "cell_type": "code",
   "execution_count": 52,
   "metadata": {},
   "outputs": [
    {
     "name": "stdout",
     "output_type": "stream",
     "text": [
      "tensor([[1, 1, 1],\n",
      "        [1, 1, 1],\n",
      "        [1, 1, 1]], dtype=torch.int32)\n",
      "torch.IntTensor\n"
     ]
    }
   ],
   "source": [
    "g = torch.ones(3,3, dtype= torch.int32)\n",
    "print(g)\n",
    "print(g.type())"
   ]
  },
  {
   "cell_type": "code",
   "execution_count": 53,
   "metadata": {},
   "outputs": [
    {
     "name": "stdout",
     "output_type": "stream",
     "text": [
      "tensor([[0.6891, 0.7292, 0.6401],\n",
      "        [0.9314, 0.8290, 0.3048],\n",
      "        [0.3895, 0.2311, 0.7545]])\n"
     ]
    }
   ],
   "source": [
    "h = torch.rand_like(g, dtype= torch.float)\n",
    "print(h)"
   ]
  },
  {
   "cell_type": "code",
   "execution_count": 54,
   "metadata": {},
   "outputs": [
    {
     "name": "stdout",
     "output_type": "stream",
     "text": [
      "tensor([[1.6891, 1.7292, 1.6401],\n",
      "        [1.9314, 1.8290, 1.3048],\n",
      "        [1.3895, 1.2311, 1.7545]])\n"
     ]
    }
   ],
   "source": [
    "#add two tensors\n",
    "i  = torch.add(g,h)\n",
    "print(i)"
   ]
  },
  {
   "cell_type": "code",
   "execution_count": 55,
   "metadata": {},
   "outputs": [
    {
     "name": "stdout",
     "output_type": "stream",
     "text": [
      "tensor([[1.6891, 1.7292, 1.6401],\n",
      "        [1.9314, 1.8290, 1.3048],\n",
      "        [1.3895, 1.2311, 1.7545]])\n"
     ]
    }
   ],
   "source": [
    "torch.add(g,h, out=i)\n",
    "print(i)"
   ]
  },
  {
   "cell_type": "code",
   "execution_count": 56,
   "metadata": {},
   "outputs": [
    {
     "name": "stdout",
     "output_type": "stream",
     "text": [
      "tensor([[1.6891, 1.7292, 1.6401],\n",
      "        [1.9314, 1.8290, 1.3048],\n",
      "        [1.3895, 1.2311, 1.7545]])\n"
     ]
    }
   ],
   "source": [
    "h.add_(g)\n",
    "print(h)"
   ]
  },
  {
   "cell_type": "code",
   "execution_count": 57,
   "metadata": {},
   "outputs": [
    {
     "name": "stdout",
     "output_type": "stream",
     "text": [
      "tensor(1.6891)\n"
     ]
    }
   ],
   "source": [
    "print(h[0,0])"
   ]
  },
  {
   "cell_type": "code",
   "execution_count": 60,
   "metadata": {},
   "outputs": [
    {
     "name": "stdout",
     "output_type": "stream",
     "text": [
      "tensor([1.9314, 1.8290, 1.3048])\n"
     ]
    }
   ],
   "source": [
    "print(h[1,:])"
   ]
  },
  {
   "cell_type": "code",
   "execution_count": 62,
   "metadata": {},
   "outputs": [
    {
     "name": "stdout",
     "output_type": "stream",
     "text": [
      "tensor(1.8290)\n",
      "1.8290350437164307\n"
     ]
    }
   ],
   "source": [
    "element = h[1,1]    #accessing element\n",
    "print(element)\n",
    "\n",
    "element = h[1,1].item()    #extracting the element\n",
    "print(element)\n"
   ]
  }
 ],
 "metadata": {
  "kernelspec": {
   "display_name": "venv",
   "language": "python",
   "name": "python3"
  },
  "language_info": {
   "codemirror_mode": {
    "name": "ipython",
    "version": 3
   },
   "file_extension": ".py",
   "mimetype": "text/x-python",
   "name": "python",
   "nbconvert_exporter": "python",
   "pygments_lexer": "ipython3",
   "version": "3.11.2"
  },
  "orig_nbformat": 4
 },
 "nbformat": 4,
 "nbformat_minor": 2
}
