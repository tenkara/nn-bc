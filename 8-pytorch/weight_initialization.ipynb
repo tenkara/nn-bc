{
 "cells": [
  {
   "cell_type": "code",
   "execution_count": 1,
   "metadata": {},
   "outputs": [],
   "source": [
    "import torch\n",
    "import torch.nn as nn"
   ]
  },
  {
   "cell_type": "code",
   "execution_count": 3,
   "metadata": {},
   "outputs": [
    {
     "name": "stdout",
     "output_type": "stream",
     "text": [
      "Parameter containing:\n",
      "tensor([[ 0.3873,  0.0308, -0.0729,  0.3309, -0.0034],\n",
      "        [-0.1715,  0.2037,  0.4216,  0.1290,  0.0292],\n",
      "        [-0.0916,  0.2984, -0.0435,  0.3410, -0.1297],\n",
      "        [ 0.0370,  0.0061,  0.1854, -0.0400,  0.3053],\n",
      "        [-0.0465,  0.1181, -0.1287,  0.1015,  0.1323]], requires_grad=True)\n"
     ]
    }
   ],
   "source": [
    "layer = nn.Linear(5, 5)\n",
    "print(layer.weight)"
   ]
  },
  {
   "cell_type": "code",
   "execution_count": 4,
   "metadata": {},
   "outputs": [
    {
     "data": {
      "text/plain": [
       "tensor([[ 0.3873,  0.0308, -0.0729,  0.3309, -0.0034],\n",
       "        [-0.1715,  0.2037,  0.4216,  0.1290,  0.0292],\n",
       "        [-0.0916,  0.2984, -0.0435,  0.3410, -0.1297],\n",
       "        [ 0.0370,  0.0061,  0.1854, -0.0400,  0.3053],\n",
       "        [-0.0465,  0.1181, -0.1287,  0.1015,  0.1323]])"
      ]
     },
     "execution_count": 4,
     "metadata": {},
     "output_type": "execute_result"
    }
   ],
   "source": [
    "layer.weight.data"
   ]
  },
  {
   "cell_type": "code",
   "execution_count": 5,
   "metadata": {},
   "outputs": [
    {
     "data": {
      "text/plain": [
       "tensor([[0.1778, 0.9814, 0.3756, 0.9362, 0.0896],\n",
       "        [0.3659, 0.9643, 0.8821, 0.9590, 0.8639],\n",
       "        [0.6926, 0.3983, 0.4733, 0.2241, 0.3844],\n",
       "        [0.5215, 0.6029, 0.2691, 0.7151, 0.9530],\n",
       "        [0.1619, 0.6851, 0.8296, 0.3936, 0.9868]])"
      ]
     },
     "execution_count": 5,
     "metadata": {},
     "output_type": "execute_result"
    }
   ],
   "source": [
    "nn.init.uniform_(layer.weight.data, a=0.0, b=1.0)"
   ]
  },
  {
   "cell_type": "code",
   "execution_count": 6,
   "metadata": {},
   "outputs": [
    {
     "data": {
      "text/plain": [
       "tensor([[-0.6973, -0.1168,  0.5278, -0.6400, -0.2677],\n",
       "        [-2.2129, -0.1154, -0.3922,  0.2926,  0.7424],\n",
       "        [-1.2538, -0.5844, -0.7336,  1.0863,  2.0152],\n",
       "        [-1.1851, -1.3168, -0.3209, -0.7695, -1.3330],\n",
       "        [ 0.9128, -0.8970,  1.2080,  1.7529, -1.2156]])"
      ]
     },
     "execution_count": 6,
     "metadata": {},
     "output_type": "execute_result"
    }
   ],
   "source": [
    "nn.init.normal_(layer.weight.data, mean=0.0, std=1.0)"
   ]
  }
 ],
 "metadata": {
  "kernelspec": {
   "display_name": "venv",
   "language": "python",
   "name": "python3"
  },
  "language_info": {
   "codemirror_mode": {
    "name": "ipython",
    "version": 3
   },
   "file_extension": ".py",
   "mimetype": "text/x-python",
   "name": "python",
   "nbconvert_exporter": "python",
   "pygments_lexer": "ipython3",
   "version": "3.11.2"
  },
  "orig_nbformat": 4
 },
 "nbformat": 4,
 "nbformat_minor": 2
}
