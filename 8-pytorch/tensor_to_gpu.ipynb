{
 "cells": [
  {
   "cell_type": "code",
   "execution_count": 1,
   "metadata": {},
   "outputs": [],
   "source": [
    "import torch\n",
    "import numpy as np"
   ]
  },
  {
   "cell_type": "code",
   "execution_count": 2,
   "metadata": {},
   "outputs": [
    {
     "name": "stdout",
     "output_type": "stream",
     "text": [
      "tensor([1, 2, 3])\n",
      "tensor([1, 2, 3], device='cuda:0')\n",
      "tensor([1, 2, 3])\n"
     ]
    }
   ],
   "source": [
    "# Create a tensor\n",
    "x = torch.tensor([1, 2, 3])\n",
    "print(x)\n",
    "\n",
    "# Move tensor to GPU\n",
    "x = x.cuda()\n",
    "print(x)\n",
    "\n",
    "# Move tensor back to CPU\n",
    "x = x.cpu()\n",
    "print(x)"
   ]
  },
  {
   "cell_type": "code",
   "execution_count": 4,
   "metadata": {},
   "outputs": [
    {
     "name": "stdout",
     "output_type": "stream",
     "text": [
      "tensor([[ 1.7291, -0.5611,  0.6458],\n",
      "        [ 0.3605,  0.9974,  0.4158]])\n",
      "tensor([[0.5476, 0.4731, 0.7816],\n",
      "        [1.4784, 0.0441, 1.2103]])\n",
      "tensor([[ 1.7291, -0.5611,  0.6458],\n",
      "        [ 0.3605,  0.9974,  0.4158],\n",
      "        [ 0.5476,  0.4731,  0.7816],\n",
      "        [ 1.4784,  0.0441,  1.2103]])\n",
      "tensor([[ 1.7291, -0.5611,  0.6458,  0.5476,  0.4731,  0.7816],\n",
      "        [ 0.3605,  0.9974,  0.4158,  1.4784,  0.0441,  1.2103]])\n"
     ]
    }
   ],
   "source": [
    "# concatenate two tensors\n",
    "x = torch.randn(2, 3)\n",
    "y = torch.randn(2, 3)\n",
    "z = torch.cat([x, y], dim=0)\n",
    "print(x)\n",
    "print(y)\n",
    "print(z)\n",
    "a = torch.cat([x, y], dim=1)\n",
    "print(a)"
   ]
  }
 ],
 "metadata": {
  "kernelspec": {
   "display_name": "venv",
   "language": "python",
   "name": "python3"
  },
  "language_info": {
   "codemirror_mode": {
    "name": "ipython",
    "version": 3
   },
   "file_extension": ".py",
   "mimetype": "text/x-python",
   "name": "python",
   "nbconvert_exporter": "python",
   "pygments_lexer": "ipython3",
   "version": "3.11.2"
  },
  "orig_nbformat": 4
 },
 "nbformat": 4,
 "nbformat_minor": 2
}
