{
 "cells": [
  {
   "cell_type": "code",
   "execution_count": 1,
   "metadata": {},
   "outputs": [],
   "source": [
    "import torch\n",
    "import torch.nn as nn\n",
    "import torchvision.transforms as transforms\n",
    "import torchvision.datasets as datasets\n",
    "import matplotlib.pyplot as plt"
   ]
  },
  {
   "cell_type": "code",
   "execution_count": 2,
   "metadata": {},
   "outputs": [],
   "source": [
    "mean_gray = 0.1307\n",
    "stddev_gray = 0.3081\n",
    "\n",
    "# input[channel] = (input[channel] - mean[channel]) / std[channel]\n",
    "# Normalize the image with mean and standard deviation of the dataset.\n",
    "# The first parameter is the mean of the dataset, and the second parameter is the standard deviation of the dataset.\n",
    "\n",
    "transforms = transforms.Compose([transforms.ToTensor(),\n",
    "                                    transforms.Normalize((mean_gray,), (stddev_gray,))])\n",
    "\n",
    "# Load the dataset\n",
    "train_dataset = datasets.MNIST(root='./data', train=True, transform=transforms, download=True)\n",
    "test_dataset = datasets.MNIST(root='./data', train=False, transform=transforms)\n"
   ]
  },
  {
   "cell_type": "code",
   "execution_count": 3,
   "metadata": {},
   "outputs": [
    {
     "data": {
      "text/plain": [
       "<matplotlib.image.AxesImage at 0x22afea4ca50>"
      ]
     },
     "execution_count": 3,
     "metadata": {},
     "output_type": "execute_result"
    },
    {
     "data": {
      "image/png": "[encoded data removed]",
      "text/plain": [
       "<Figure size 640x480 with 1 Axes>"
      ]
     },
     "metadata": {},
     "output_type": "display_data"
    }
   ],
   "source": [
    "# Visualize the dataset\n",
    "# Denormalize the image\n",
    "random_img = train_dataset[20][0].numpy() * stddev_gray + mean_gray\n",
    "plt.imshow(random_img.reshape(28, 28), cmap='gray')"
   ]
  },
  {
   "cell_type": "code",
   "execution_count": 4,
   "metadata": {},
   "outputs": [
    {
     "data": {
      "text/plain": [
       "4"
      ]
     },
     "execution_count": 4,
     "metadata": {},
     "output_type": "execute_result"
    }
   ],
   "source": [
    "# Label of the above image\n",
    "train_dataset[20][1]"
   ]
  },
  {
   "cell_type": "code",
   "execution_count": 5,
   "metadata": {},
   "outputs": [],
   "source": [
    "batch_size = 100\n",
    "train_load = torch.utils.data.DataLoader(dataset=train_dataset, batch_size=batch_size, shuffle=True)\n",
    "test_load = torch.utils.data.DataLoader(dataset=test_dataset, batch_size=batch_size, shuffle=False)"
   ]
  },
  {
   "cell_type": "code",
   "execution_count": 6,
   "metadata": {},
   "outputs": [
    {
     "data": {
      "text/plain": [
       "600"
      ]
     },
     "execution_count": 6,
     "metadata": {},
     "output_type": "execute_result"
    }
   ],
   "source": [
    "len(train_load)"
   ]
  },
  {
   "cell_type": "markdown",
   "metadata": {},
   "source": [
    "![cnn mnist](https://user-images.githubusercontent.com/30661597/61713471-3c957d00-ad8b-11e9-9a38-e3f4d1e72565.png)"
   ]
  },
  {
   "cell_type": "code",
   "execution_count": 7,
   "metadata": {},
   "outputs": [],
   "source": [
    "# Create the model\n",
    "class CNN(nn.Module):\n",
    "    def __init__(self):\n",
    "        super(CNN, self).__init__()\n",
    "        \n",
    "        # 1st convolutional layer\n",
    "        # Same padding: (kernel_size - 1) / 2; same padding means the output size is the same as the input size.\n",
    "        self.conv1 = nn.Conv2d(in_channels=1, out_channels=8, kernel_size=3, stride=1, padding=1)\n",
    "        # The output size of each of the 8 feature maps:\n",
    "        # [(input_size - filter_size + 2 * padding) / stride] + 1 = [(28 - 3 + 2 * 1) / 1] + 1 = [27 / 1] + 1 = 28\n",
    "        # Batch normalization\n",
    "        self.batchnorm1 = nn.BatchNorm2d(8)\n",
    "        # Apply ReLU activation function\n",
    "        self.relu = nn.ReLU()\n",
    "        self.maxpool = nn.MaxPool2d(kernel_size=2)\n",
    "        # The output size of each of the 8 feature maps:\n",
    "        # [(input_size - filter_size + 2 * padding) / stride] + 1 = [(28 - 2 + 2 * 0) / 2] + 1 = [26 / 2] + 1 = 14\n",
    "\n",
    "        # 2nd convolutional layer\n",
    "        # Choose the output channels to be 32\n",
    "        # Choose the kernel size to be 5\n",
    "        \n",
    "        \n",
    "        # Same padding = (5 - 1) / 2 = 2\n",
    "        self.conv2 = nn.Conv2d(in_channels=8, out_channels=32, kernel_size=5, stride=1, padding=2)\n",
    "        # The output size of each of the 32 feature maps:# [(input_size - filter_size + 2 * padding) / stride] + 1 = [(14 - 5 + 2 * 2) / 1] + 1 = [13 / 1] + 1 = 14\n",
    "        # Batch normalization\n",
    "        self.batchnorm2 = nn.BatchNorm2d(32)\n",
    "        # We don't need to specify the activation function here, because we are using the same kernel size max pooling specified earlier.\n",
    "        # Output size of each of the 32 feature maps: [(14 - 2 + 2 * 0) / 2] + 1 = [12 / 2] + 1 = 7\n",
    "\n",
    "        # Flatten the 32 feature maps: 32 * 7 * 7 = 1568\n",
    "        self.fc1 = nn.Linear(in_features=32*7*7, out_features=600)\n",
    "        # Dropout layer is used to prevent overfitting and is only used during training.\n",
    "        self.dropout = nn.Dropout(p=0.5)\n",
    "        # Second fully connected layer\n",
    "        self.fc2 = nn.Linear(in_features=600, out_features=10)\n",
    "\n",
    "    def forward(self, x):\n",
    "        out = self.conv1(x)\n",
    "        out = self.batchnorm1(out)\n",
    "        out = self.relu(out)\n",
    "        out = self.maxpool(out)\n",
    "        out = self.conv2(out)\n",
    "        out = self.batchnorm2(out)\n",
    "        out = self.relu(out)\n",
    "        out = self.maxpool(out)\n",
    "\n",
    "        # Flatten the output of the second convolutional layer\n",
    "        out = out.view(-1, 32*7*7)\n",
    "\n",
    "        # First fully connected layer\n",
    "        out = self.fc1(out)\n",
    "        out = self.relu(out)\n",
    "        out = self.dropout(out)\n",
    "        out = self.fc2(out)\n",
    "        return out"
   ]
  },
  {
   "cell_type": "code",
   "execution_count": 9,
   "metadata": {},
   "outputs": [],
   "source": [
    "# Create the model\n",
    "model = CNN()\n",
    "CUDA = torch.cuda.is_available()\n",
    "if CUDA:\n",
    "    model = model.cuda()\n",
    "\n",
    "# Loss function and optimizer\n",
    "loss_fn = nn.CrossEntropyLoss()\n",
    "optimizer = torch.optim.Adam(model.parameters(), lr=0.01)\n"
   ]
  }
 ],
 "metadata": {
  "kernelspec": {
   "display_name": "venv",
   "language": "python",
   "name": "python3"
  },
  "language_info": {
   "codemirror_mode": {
    "name": "ipython",
    "version": 3
   },
   "file_extension": ".py",
   "mimetype": "text/x-python",
   "name": "python",
   "nbconvert_exporter": "python",
   "pygments_lexer": "ipython3",
   "version": "3.11.2"
  },
  "orig_nbformat": 4
 },
 "nbformat": 4,
 "nbformat_minor": 2
}
