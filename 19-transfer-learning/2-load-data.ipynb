{
 "cells": [
  {
   "cell_type": "code",
   "execution_count": 1,
   "metadata": {},
   "outputs": [],
   "source": [
    "import torch\n",
    "import torch.nn as nn\n",
    "import torch.optim as optim\n",
    "from torch.optim import lr_scheduler\n",
    "import torchvision\n",
    "from torchvision import datasets, transforms, models\n",
    "from torch.autograd import Variable\n",
    "import numpy as np\n",
    "import os"
   ]
  },
  {
   "cell_type": "code",
   "execution_count": 2,
   "metadata": {},
   "outputs": [],
   "source": [
    "# Data augmentation and normalization for training\n",
    "# Just normalization for validation\n",
    "#class torchvision.transforms.RandomResizedCrop(size, scale=(0.08, 1.0), ratio=(0.75, 1.3333333333333333), interpolation=2)\n",
    "#transforms.RandomResizedCrop(224) --> A crop of random size (default: of 0.08 to 1.0) of the original size and a \n",
    "#random aspect ratio (default: of 3/4 to 4/3) of the original aspect ratio is made. \n",
    "#This crop is finally resized to given size (224 in this case). \n",
    "#transforms.CenterCrop(224)--> Crops the image at the center. 224 is the Desired output size of the crop.\n",
    "#class torchvision.transforms.Normalize(mean, std)\n",
    "#Normalize a tensor image with mean and standard deviation. Given mean: (M1,...,Mn) and std: (S1,..,Sn) for n channels, \n",
    "#this transform will normalize each channel of the input torch.Tensor i.e. \n",
    "#input[channel] = (input[channel] - mean[channel]) / std[channel]\n",
    "#Parameters:     mean (sequence) – Sequence of means for each channel.\n",
    "#                std (sequence) – Sequence of standard deviations for each channel.\n",
    "\n",
    "data_transforms = {\n",
    "    'train': transforms.Compose([\n",
    "        transforms.RandomResizedCrop(224), #Crop the given PIL Image to random size and aspect ratio.\n",
    "        transforms.RandomHorizontalFlip(), #Horizontally flip the given PIL Image randomly with a given probability.\n",
    "        transforms.ToTensor(), #Convert a PIL Image or numpy.ndarray to tensor.\n",
    "        transforms.Normalize([0.485, 0.456, 0.406], #Normalize a tensor image with mean and standard deviation.\n",
    "                                [0.229, 0.224, 0.225]) #Given mean: (M1,...,Mn) and std: (S1,..,Sn) for n channels,\n",
    "                                                        #this transform will normalize each channel of the input torch.Tensor\n",
    "                                                        #i.e. input[channel] = (input[channel] - mean[channel]) / std[channel]\n",
    "    ]),\n",
    "    'val': transforms.Compose([\n",
    "        transforms.Resize(256), #Resize the input PIL Image to the given size.\n",
    "        transforms.CenterCrop(224), #Crops the image at the center. 224 is the Desired output size of the crop.\n",
    "        transforms.ToTensor(), #Convert a PIL Image or numpy.ndarray to tensor.\n",
    "        transforms.Normalize([0.485, 0.456, 0.406], #Normalize a tensor image with mean and standard deviation.\n",
    "                                [0.229, 0.224, 0.225]) #Given mean: (M1,...,Mn) and std: (S1,..,Sn) for n channels,\n",
    "                                                        #this transform will normalize each channel of the input torch.Tensor\n",
    "                                                        #i.e. input[channel] = (input[channel] - mean[channel]) / std[channel]\n",
    "    ]),\n",
    "}\n",
    "\n",
    "\n",
    "    "
   ]
  },
  {
   "cell_type": "code",
   "execution_count": 8,
   "metadata": {},
   "outputs": [
    {
     "name": "stdout",
     "output_type": "stream",
     "text": [
      "Class Names: ['ants', 'bees']\n",
      "Dataset Sizes: {'train': 244, 'val': 153}\n",
      "Batches in training set: 61\n",
      "Batches in validation set: 39\n"
     ]
    }
   ],
   "source": [
    "data_dir = 'data/hymenoptera_data'\n",
    "# create a dictionary that contains the datasets for training and validation\n",
    "image_datasets = {x: datasets.ImageFolder(os.path.join(data_dir, x), data_transforms[x]) for x in ['train', 'val']}\n",
    "# create a dictionary that contains the dataloaders for training and validation\n",
    "dataloaders = {x: torch.utils.data.DataLoader(image_datasets[x], batch_size=4, shuffle=True, num_workers=4) for x in ['train', 'val']}\n",
    "# create a dictionary that contains the size of the datasets for training and validation\n",
    "dataset_sizes = {x: len(image_datasets[x]) for x in ['train', 'val']}\n",
    "# create a list that contains the names of the classes\n",
    "class_names = image_datasets['train'].classes\n",
    "# print the names and sizes of the datasets\n",
    "print(f\"Class Names: {class_names}\")\n",
    "print(f\"Dataset Sizes: {dataset_sizes}\")\n",
    "print(f\"Batches in training set: {len(dataloaders['train'])}\")\n",
    "print(f\"Batches in validation set: {len(dataloaders['val'])}\")"
   ]
  }
 ],
 "metadata": {
  "kernelspec": {
   "display_name": "venv",
   "language": "python",
   "name": "python3"
  },
  "language_info": {
   "codemirror_mode": {
    "name": "ipython",
    "version": 3
   },
   "file_extension": ".py",
   "mimetype": "text/x-python",
   "name": "python",
   "nbconvert_exporter": "python",
   "pygments_lexer": "ipython3",
   "version": "3.11.2"
  },
  "orig_nbformat": 4
 },
 "nbformat": 4,
 "nbformat_minor": 2
}
